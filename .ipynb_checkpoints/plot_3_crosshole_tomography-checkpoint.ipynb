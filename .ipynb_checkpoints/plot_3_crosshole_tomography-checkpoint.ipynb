{
 "cells": [
  {
   "cell_type": "code",
   "execution_count": null,
   "metadata": {},
   "outputs": [],
   "source": [
    "# Checkout www.pygimli.org for more examples\n",
    "%matplotlib inline"
   ]
  },
  {
   "cell_type": "markdown",
   "metadata": {},
   "source": [
    "\n",
    "Crosshole traveltime tomography\n",
    "-------------------------------\n",
    "\n",
    "Seismic and ground penetrating radar (GPR) methods are frequently applied to\n",
    "image the shallow subsurface. While novel developments focus on inverting the\n",
    "full waveform, ray-based approximations are still widely used in practice and\n",
    "offer a computationally efficient alternative. Here we demonstrate the modeling\n",
    "of traveltimes and their inversion for the underlying slowness distribution for\n",
    "a crosshole scenario.\n",
    "\n",
    "We start by importing the necessary packages.\n"
   ]
  },
  {
   "cell_type": "code",
   "execution_count": 1,
   "metadata": {},
   "outputs": [
    {
     "name": "stdout",
     "output_type": "stream",
     "text": [
      "libgimli.so: cannot open shared object file: No such file or directory\n",
      "Traceback (most recent call last):\n",
      "  File \"/home/arhamze/anaconda3/lib/python3.7/site-packages/pygimli/core/__init__.py\", line 21, in <module>\n",
      "    from ._pygimli_ import *\n",
      "ImportError: libgimli.so: cannot open shared object file: No such file or directory\n"
     ]
    },
    {
     "name": "stderr",
     "output_type": "stream",
     "text": [
      "ERROR: cannot import the library '_pygimli_'.\n"
     ]
    },
    {
     "ename": "AttributeError",
     "evalue": "'NoneType' object has no attribute 'setDebug'",
     "output_type": "error",
     "traceback": [
      "\u001b[0;31m---------------------------------------------------------------------------\u001b[0m",
      "\u001b[0;31mAttributeError\u001b[0m                            Traceback (most recent call last)",
      "\u001b[0;32m<ipython-input-1-176230d497eb>\u001b[0m in \u001b[0;36m<module>\u001b[0;34m\u001b[0m\n\u001b[1;32m      5\u001b[0m \u001b[0;32mimport\u001b[0m \u001b[0mnumpy\u001b[0m \u001b[0;32mas\u001b[0m \u001b[0mnp\u001b[0m\u001b[0;34m\u001b[0m\u001b[0;34m\u001b[0m\u001b[0m\n\u001b[1;32m      6\u001b[0m \u001b[0;34m\u001b[0m\u001b[0m\n\u001b[0;32m----> 7\u001b[0;31m \u001b[0;32mimport\u001b[0m \u001b[0mpygimli\u001b[0m \u001b[0;32mas\u001b[0m \u001b[0mpg\u001b[0m\u001b[0;34m\u001b[0m\u001b[0;34m\u001b[0m\u001b[0m\n\u001b[0m\u001b[1;32m      8\u001b[0m \u001b[0;32mimport\u001b[0m \u001b[0mpygimli\u001b[0m\u001b[0;34m.\u001b[0m\u001b[0mmeshtools\u001b[0m \u001b[0;32mas\u001b[0m \u001b[0mmt\u001b[0m\u001b[0;34m\u001b[0m\u001b[0;34m\u001b[0m\u001b[0m\n\u001b[1;32m      9\u001b[0m \u001b[0;32mfrom\u001b[0m \u001b[0mpygimli\u001b[0m\u001b[0;34m.\u001b[0m\u001b[0mphysics\u001b[0m\u001b[0;34m.\u001b[0m\u001b[0mtraveltime\u001b[0m \u001b[0;32mimport\u001b[0m \u001b[0mRefraction\u001b[0m\u001b[0;34m\u001b[0m\u001b[0;34m\u001b[0m\u001b[0m\n",
      "\u001b[0;32m~/anaconda3/lib/python3.7/site-packages/pygimli/__init__.py\u001b[0m in \u001b[0;36m<module>\u001b[0;34m\u001b[0m\n\u001b[1;32m      9\u001b[0m \u001b[0;34m\u001b[0m\u001b[0m\n\u001b[1;32m     10\u001b[0m \u001b[0;31m### Import everything that should be accessible through main namespace.\u001b[0m\u001b[0;34m\u001b[0m\u001b[0;34m\u001b[0m\u001b[0;34m\u001b[0m\u001b[0m\n\u001b[0;32m---> 11\u001b[0;31m from .core import (BVector, CVector, DataContainer, DataContainerERT,\n\u001b[0m\u001b[1;32m     12\u001b[0m                    \u001b[0mIVector\u001b[0m\u001b[0;34m,\u001b[0m \u001b[0mLine\u001b[0m\u001b[0;34m,\u001b[0m \u001b[0mMatrix\u001b[0m\u001b[0;34m,\u001b[0m \u001b[0mMesh\u001b[0m\u001b[0;34m,\u001b[0m \u001b[0mPlane\u001b[0m\u001b[0;34m,\u001b[0m \u001b[0mPos\u001b[0m\u001b[0;34m,\u001b[0m\u001b[0;34m\u001b[0m\u001b[0;34m\u001b[0m\u001b[0m\n\u001b[1;32m     13\u001b[0m                    \u001b[0mRVector3\u001b[0m\u001b[0;34m,\u001b[0m \u001b[0mVector\u001b[0m\u001b[0;34m,\u001b[0m \u001b[0mabs\u001b[0m\u001b[0;34m,\u001b[0m \u001b[0mcat\u001b[0m\u001b[0;34m,\u001b[0m \u001b[0mcenter\u001b[0m\u001b[0;34m,\u001b[0m \u001b[0mdur\u001b[0m\u001b[0;34m,\u001b[0m \u001b[0mexp\u001b[0m\u001b[0;34m,\u001b[0m \u001b[0mfind\u001b[0m\u001b[0;34m,\u001b[0m\u001b[0;34m\u001b[0m\u001b[0;34m\u001b[0m\u001b[0m\n",
      "\u001b[0;32m~/anaconda3/lib/python3.7/site-packages/pygimli/core/__init__.py\u001b[0m in \u001b[0;36m<module>\u001b[0;34m\u001b[0m\n\u001b[1;32m     29\u001b[0m \u001b[0;31m#######################################\u001b[0m\u001b[0;34m\u001b[0m\u001b[0;34m\u001b[0m\u001b[0;34m\u001b[0m\u001b[0m\n\u001b[1;32m     30\u001b[0m \u001b[0;34m\u001b[0m\u001b[0m\n\u001b[0;32m---> 31\u001b[0;31m \u001b[0;32mfrom\u001b[0m \u001b[0;34m.\u001b[0m\u001b[0;34m.\u001b[0m\u001b[0mutils\u001b[0m \u001b[0;32mimport\u001b[0m \u001b[0mboxprint\u001b[0m\u001b[0;34m\u001b[0m\u001b[0;34m\u001b[0m\u001b[0m\n\u001b[0m\u001b[1;32m     32\u001b[0m \u001b[0;34m\u001b[0m\u001b[0m\n\u001b[1;32m     33\u001b[0m \u001b[0m_pygimli_\u001b[0m\u001b[0;34m.\u001b[0m\u001b[0mload\u001b[0m \u001b[0;34m=\u001b[0m \u001b[0;32mNone\u001b[0m\u001b[0;34m\u001b[0m\u001b[0;34m\u001b[0m\u001b[0m\n",
      "\u001b[0;32m~/anaconda3/lib/python3.7/site-packages/pygimli/utils/__init__.py\u001b[0m in \u001b[0;36m<module>\u001b[0;34m\u001b[0m\n\u001b[1;32m     26\u001b[0m                               sparseMatrix2coo, sparseMatrix2csr)\n\u001b[1;32m     27\u001b[0m \u001b[0;34m\u001b[0m\u001b[0m\n\u001b[0;32m---> 28\u001b[0;31m \u001b[0;32mfrom\u001b[0m \u001b[0;34m.\u001b[0m\u001b[0munits\u001b[0m \u001b[0;32mimport\u001b[0m \u001b[0;34m(\u001b[0m\u001b[0munit\u001b[0m\u001b[0;34m,\u001b[0m \u001b[0mcmap\u001b[0m\u001b[0;34m)\u001b[0m\u001b[0;34m\u001b[0m\u001b[0;34m\u001b[0m\u001b[0m\n\u001b[0m\u001b[1;32m     29\u001b[0m \u001b[0;32mfrom\u001b[0m \u001b[0;34m.\u001b[0m\u001b[0munits\u001b[0m \u001b[0;32mimport\u001b[0m \u001b[0mcmap\u001b[0m \u001b[0;32mas\u001b[0m \u001b[0mcMap\u001b[0m \u001b[0;31m# for compatibilty (will be removed)\u001b[0m\u001b[0;34m\u001b[0m\u001b[0;34m\u001b[0m\u001b[0m\n\u001b[1;32m     30\u001b[0m \u001b[0;34m\u001b[0m\u001b[0m\n",
      "\u001b[0;32m~/anaconda3/lib/python3.7/site-packages/pygimli/utils/units.py\u001b[0m in \u001b[0;36m<module>\u001b[0;34m\u001b[0m\n\u001b[1;32m      5\u001b[0m \u001b[0;34m\u001b[0m\u001b[0m\n\u001b[1;32m      6\u001b[0m \u001b[0;32mimport\u001b[0m \u001b[0mpygimli\u001b[0m \u001b[0;32mas\u001b[0m \u001b[0mpg\u001b[0m\u001b[0;34m\u001b[0m\u001b[0;34m\u001b[0m\u001b[0m\n\u001b[0;32m----> 7\u001b[0;31m \u001b[0;32mfrom\u001b[0m \u001b[0;34m.\u001b[0m\u001b[0;34m.\u001b[0m\u001b[0mcore\u001b[0m\u001b[0;34m.\u001b[0m\u001b[0mconfig\u001b[0m \u001b[0;32mimport\u001b[0m \u001b[0mrc\u001b[0m\u001b[0;34m\u001b[0m\u001b[0;34m\u001b[0m\u001b[0m\n\u001b[0m\u001b[1;32m      8\u001b[0m \u001b[0;34m\u001b[0m\u001b[0m\n\u001b[1;32m      9\u001b[0m quants = {\n",
      "\u001b[0;32m~/anaconda3/lib/python3.7/site-packages/pygimli/core/config.py\u001b[0m in \u001b[0;36m<module>\u001b[0;34m\u001b[0m\n\u001b[1;32m      5\u001b[0m \u001b[0;32mimport\u001b[0m \u001b[0msys\u001b[0m\u001b[0;34m\u001b[0m\u001b[0;34m\u001b[0m\u001b[0m\n\u001b[1;32m      6\u001b[0m \u001b[0;34m\u001b[0m\u001b[0m\n\u001b[0;32m----> 7\u001b[0;31m \u001b[0;32mfrom\u001b[0m \u001b[0;34m.\u001b[0m\u001b[0mlogger\u001b[0m \u001b[0;32mimport\u001b[0m \u001b[0minfo\u001b[0m\u001b[0;34m\u001b[0m\u001b[0;34m\u001b[0m\u001b[0m\n\u001b[0m\u001b[1;32m      8\u001b[0m \u001b[0;34m\u001b[0m\u001b[0m\n\u001b[1;32m      9\u001b[0m \u001b[0;31m# pyGIMLi default configuration\u001b[0m\u001b[0;34m\u001b[0m\u001b[0;34m\u001b[0m\u001b[0;34m\u001b[0m\u001b[0m\n",
      "\u001b[0;32m~/anaconda3/lib/python3.7/site-packages/pygimli/core/logger.py\u001b[0m in \u001b[0;36m<module>\u001b[0;34m\u001b[0m\n\u001b[1;32m    235\u001b[0m     \u001b[0msetDebug\u001b[0m\u001b[0;34m(\u001b[0m\u001b[0;32mTrue\u001b[0m\u001b[0;34m)\u001b[0m\u001b[0;34m\u001b[0m\u001b[0;34m\u001b[0m\u001b[0m\n\u001b[1;32m    236\u001b[0m \u001b[0;32melse\u001b[0m\u001b[0;34m:\u001b[0m\u001b[0;34m\u001b[0m\u001b[0;34m\u001b[0m\u001b[0m\n\u001b[0;32m--> 237\u001b[0;31m     \u001b[0msetDebug\u001b[0m\u001b[0;34m(\u001b[0m\u001b[0;32mFalse\u001b[0m\u001b[0;34m)\u001b[0m\u001b[0;34m\u001b[0m\u001b[0;34m\u001b[0m\u001b[0m\n\u001b[0m\u001b[1;32m    238\u001b[0m \u001b[0;34m\u001b[0m\u001b[0m\n\u001b[1;32m    239\u001b[0m \u001b[0;32mif\u001b[0m \u001b[0;34m'--verbose'\u001b[0m \u001b[0;32min\u001b[0m \u001b[0msys\u001b[0m\u001b[0;34m.\u001b[0m\u001b[0margv\u001b[0m \u001b[0;32mor\u001b[0m \u001b[0;34m'-v'\u001b[0m \u001b[0;32min\u001b[0m \u001b[0msys\u001b[0m\u001b[0;34m.\u001b[0m\u001b[0margv\u001b[0m\u001b[0;34m:\u001b[0m\u001b[0;34m\u001b[0m\u001b[0;34m\u001b[0m\u001b[0m\n",
      "\u001b[0;32m~/anaconda3/lib/python3.7/site-packages/pygimli/core/logger.py\u001b[0m in \u001b[0;36msetDebug\u001b[0;34m(d)\u001b[0m\n\u001b[1;32m    221\u001b[0m         \u001b[0mlevel\u001b[0m \u001b[0;34m=\u001b[0m \u001b[0mlogging\u001b[0m\u001b[0;34m.\u001b[0m\u001b[0mDEBUG\u001b[0m\u001b[0;34m\u001b[0m\u001b[0;34m\u001b[0m\u001b[0m\n\u001b[1;32m    222\u001b[0m     \u001b[0;32melse\u001b[0m\u001b[0;34m:\u001b[0m\u001b[0;34m\u001b[0m\u001b[0;34m\u001b[0m\u001b[0m\n\u001b[0;32m--> 223\u001b[0;31m         \u001b[0m_pygimli_\u001b[0m\u001b[0;34m.\u001b[0m\u001b[0msetDebug\u001b[0m\u001b[0;34m(\u001b[0m\u001b[0;32mFalse\u001b[0m\u001b[0;34m)\u001b[0m\u001b[0;34m\u001b[0m\u001b[0;34m\u001b[0m\u001b[0m\n\u001b[0m\u001b[1;32m    224\u001b[0m         \u001b[0mlevel\u001b[0m \u001b[0;34m=\u001b[0m \u001b[0mlogging\u001b[0m\u001b[0;34m.\u001b[0m\u001b[0mINFO\u001b[0m\u001b[0;34m\u001b[0m\u001b[0;34m\u001b[0m\u001b[0m\n\u001b[1;32m    225\u001b[0m \u001b[0;34m\u001b[0m\u001b[0m\n",
      "\u001b[0;31mAttributeError\u001b[0m: 'NoneType' object has no attribute 'setDebug'"
     ]
    }
   ],
   "source": [
    "# sphinx_gallery_thumbnail_number = 3\n",
    "\n",
    "import matplotlib as mpl\n",
    "import matplotlib.pyplot as plt\n",
    "import numpy as np\n",
    "\n",
    "import pygimli as pg\n",
    "import pygimli.meshtools as mt\n",
    "from pygimli.physics.traveltime import Refraction\n",
    "\n",
    "mpl.rcParams['image.cmap'] = 'inferno_r'"
   ]
  },
  {
   "cell_type": "markdown",
   "metadata": {},
   "source": [
    "Next, we build the crosshole acquisition geometry with two shallow boreholes.\n",
    "\n"
   ]
  },
  {
   "cell_type": "code",
   "execution_count": null,
   "metadata": {},
   "outputs": [],
   "source": [
    "# Acquisition parameters\n",
    "bh_spacing = 20.0\n",
    "bh_length = 25.0\n",
    "sensor_spacing = 2.5\n",
    "\n",
    "world = mt.createRectangle(start=[0, -(bh_length + 3)], end=[bh_spacing, 0.0],\n",
    "                           marker=0)\n",
    "\n",
    "depth = -np.arange(sensor_spacing, bh_length + sensor_spacing, sensor_spacing)\n",
    "\n",
    "sensors = np.zeros((len(depth) * 2, 2))  # two boreholes\n",
    "sensors[len(depth):, 0] = bh_spacing  # x\n",
    "sensors[:, 1] = np.hstack([depth] * 2)  # y"
   ]
  },
  {
   "cell_type": "markdown",
   "metadata": {},
   "source": [
    "Traveltime calculations work on unstructured meshes and structured grids. We\n",
    "demonstrate this here by simulating the synthetic data on an unstructured mesh\n",
    "and inverting it on a simple structured grid.\n",
    "\n"
   ]
  },
  {
   "cell_type": "code",
   "execution_count": null,
   "metadata": {},
   "outputs": [],
   "source": [
    "# Create forward model and mesh\n",
    "c0 = mt.createCircle(pos=(7.0, -10.0), radius=3, segments=25, marker=1)\n",
    "c1 = mt.createCircle(pos=(12.0, -18.0), radius=4, segments=25, marker=2)\n",
    "geom = mt.mergePLC([world, c0, c1])\n",
    "for sen in sensors:\n",
    "    geom.createNode(sen)\n",
    "\n",
    "mesh_fwd = mt.createMesh(geom, quality=34, area=.25)\n",
    "model = np.array([2000., 2300, 1700])[mesh_fwd.cellMarkers()]\n",
    "pg.show(mesh_fwd, model, label=\"Velocity (m/s)\", nLevs=3, logScale=False)"
   ]
  },
  {
   "cell_type": "markdown",
   "metadata": {},
   "source": [
    "Create inversion mesh\n",
    "\n"
   ]
  },
  {
   "cell_type": "code",
   "execution_count": null,
   "metadata": {},
   "outputs": [],
   "source": [
    "refinement = 0.25\n",
    "x = np.arange(0, bh_spacing + refinement, sensor_spacing * refinement)\n",
    "y = -np.arange(0.0, bh_length + 3, sensor_spacing * refinement)\n",
    "mesh = pg.createMesh2D(x, y)\n",
    "\n",
    "ax, _ = pg.show(mesh, hold=True)\n",
    "ax.plot(sensors[:, 0], sensors[:, 1], \"ro\")"
   ]
  },
  {
   "cell_type": "markdown",
   "metadata": {},
   "source": [
    "Next, we create an empty DataContainer and fill it with sensor positions and\n",
    "all possible shot-recevier pairs for the two-borehole scenario using the\n",
    "product function in the itertools module (Python standard library).\n",
    "\n"
   ]
  },
  {
   "cell_type": "code",
   "execution_count": null,
   "metadata": {},
   "outputs": [],
   "source": [
    "from itertools import product\n",
    "numbers = np.arange(len(depth))\n",
    "rays = list(product(numbers, numbers + len(numbers)))\n",
    "\n",
    "# Empty container\n",
    "scheme = pg.DataContainer()\n",
    "\n",
    "# Add sensors\n",
    "for sen in sensors:\n",
    "    scheme.createSensor(sen)\n",
    "\n",
    "# Add measurements\n",
    "rays = np.array(rays)\n",
    "scheme.resize(len(rays))\n",
    "scheme.add(\"s\", rays[:, 0])\n",
    "scheme.add(\"g\", rays[:, 1])\n",
    "scheme.add(\"valid\", np.ones(len(rays)))\n",
    "scheme.registerSensorIndex(\"s\")\n",
    "scheme.registerSensorIndex(\"g\")"
   ]
  },
  {
   "cell_type": "markdown",
   "metadata": {},
   "source": [
    "The forward simulation is performed with a few lines of code. We initialize an\n",
    "instance of the Refraction manager and call its `simulate` function with the\n",
    "mesh, the scheme and the slowness model (1 / velocity). We also add 0.1%\n",
    "relative and 10 microseconds of absolute noise.\n",
    "\n",
    "Secondary nodes allow for more accurate forward simulations. Check out the\n",
    "paper by `Giroux & Larouche (2013)\n",
    "<https://doi.org/10.1016/j.cageo.2012.12.005>`_ to learn more about it.\n",
    "\n"
   ]
  },
  {
   "cell_type": "code",
   "execution_count": null,
   "metadata": {},
   "outputs": [],
   "source": [
    "tt = Refraction()\n",
    "mesh_fwd.createSecondaryNodes(5)\n",
    "data = tt.simulate(mesh=mesh_fwd, scheme=scheme, slowness=1. / model,\n",
    "                   noiseLevel=0.001, noiseAbs=1e-5)"
   ]
  },
  {
   "cell_type": "markdown",
   "metadata": {},
   "source": [
    "For the inversion we create a new instance of the Refraction manager to avoid\n",
    "confusion, since it is working on a different mesh.\n",
    "\n"
   ]
  },
  {
   "cell_type": "code",
   "execution_count": null,
   "metadata": {},
   "outputs": [],
   "source": [
    "ttinv = Refraction()\n",
    "ttinv.setData(data)  # Set previously simulated data\n",
    "ttinv.setMesh(mesh, secNodes=5)\n",
    "invmodel = ttinv.invert(lam=1100, vtop=2000, vbottom=2000, zWeight=1.0)\n",
    "print(\"chi^2 = %.2f\" % ttinv.inv.getChi2())  # Look at the data fit"
   ]
  },
  {
   "cell_type": "markdown",
   "metadata": {},
   "source": [
    "Finally, we visualize the true model and the inversion result next to each\n",
    "other.\n",
    "\n"
   ]
  },
  {
   "cell_type": "code",
   "execution_count": null,
   "metadata": {},
   "outputs": [],
   "source": [
    "fig, (ax1, ax2) = plt.subplots(1, 2, figsize=(8, 7), sharex=True, sharey=True)\n",
    "ax1.set_title(\"True model\")\n",
    "ax2.set_title(\"Inversion result\")\n",
    "\n",
    "pg.show(mesh_fwd, model, ax=ax1, showMesh=True, label=\"Velocity (m/s)\",\n",
    "        logScale=False, nLevs=3)\n",
    "\n",
    "for ax in (ax1, ax2):\n",
    "    ax.plot(sensors[:, 0], sensors[:, 1], \"wo\")\n",
    "\n",
    "ttinv.showResult(ax=ax2)\n",
    "ttinv.showRayPaths(ax=ax2, color=\"0.8\", alpha=0.3)\n",
    "fig.tight_layout()"
   ]
  },
  {
   "cell_type": "markdown",
   "metadata": {},
   "source": [
    "Note how the rays are attracted by the high velocity anomaly while\n",
    "circumventing the low velocity region. This is also reflected in the coverage,\n",
    "which can be visualized as follows:\n",
    "\n"
   ]
  },
  {
   "cell_type": "code",
   "execution_count": null,
   "metadata": {},
   "outputs": [],
   "source": [
    "fig, ax = plt.subplots()\n",
    "ttinv.showCoverage(ax=ax, cMap=\"Greens\")\n",
    "ttinv.showRayPaths(ax=ax, color=\"k\", alpha=0.3)\n",
    "ax.plot(sensors[:, 0], sensors[:, 1], \"ko\")"
   ]
  },
  {
   "cell_type": "markdown",
   "metadata": {},
   "source": [
    "White regions indicate the model null space, i.e. cells that are not traversed\n",
    "by any ray.\n",
    "\n"
   ]
  }
 ],
 "metadata": {
  "kernelspec": {
   "display_name": "Python 3",
   "language": "python",
   "name": "python3"
  },
  "language_info": {
   "codemirror_mode": {
    "name": "ipython",
    "version": 3
   },
   "file_extension": ".py",
   "mimetype": "text/x-python",
   "name": "python",
   "nbconvert_exporter": "python",
   "pygments_lexer": "ipython3",
   "version": "3.7.4"
  }
 },
 "nbformat": 4,
 "nbformat_minor": 1
}
