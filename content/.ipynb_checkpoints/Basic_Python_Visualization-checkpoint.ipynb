{
 "cells": [
  {
   "cell_type": "markdown",
   "metadata": {},
   "source": [
    "# Final Project : Data Processing and Visualization\n",
    "## Ramens Ratings Dataset\n",
    "\n",
    "This project aims to see how the level of popularity and quality of the ramen brand according to customer reviews through the existing raw data."
   ]
  },
  {
   "cell_type": "markdown",
   "metadata": {},
   "source": [
    "# PART 1 : Import The Raw Data and Create Dataset \n",
    "\n",
    "The first step is to import raw data and then create a dataset with the appropriate headers."
   ]
  },
  {
   "cell_type": "code",
   "execution_count": null,
   "metadata": {},
   "outputs": [],
   "source": [
    "\"\"\"\n",
    "Created on Sun Nov 15 22:04:12 2020\n",
    "\n",
    "@author: arhamze\n",
    "\"\"\"\n",
    "\n",
    "import csv\n",
    "import math\n",
    "import numpy as np\n",
    "import matplotlib.pyplot as plt\n",
    "from matplotlib import colors\n",
    "from collections import defaultdict as dfdict\n",
    "\n",
    "\n",
    "\n",
    "next(data)\n",
    "##making dataset\n",
    "dataset=[]\n",
    "header=['Review #','Brand','Variety','Style','Country','Stars','Top Ten']\n",
    "        \n",
    "###menyatukan header dengan data\n",
    "while True:\n",
    "    for i in data:\n",
    "        try:\n",
    "            d=dict(zip(header,i))\n",
    "            d['Review #']=int(d['Review #'])\n",
    "            d['Stars']=float(d['Stars'])\n",
    "        except ValueError:\n",
    "            d['Stars']=0\n",
    "            #print ('This Unrated, so we change it with 0 ')\n",
    "            pass\n",
    "        dataset.append(d)   \n",
    "    break\n"
   ]
  },
  {
   "cell_type": "markdown",
   "metadata": {},
   "source": [
    "# PART 2 :Do Some Simple Statistic of The Data\n",
    "\n",
    "The data is already cleaned and not need further conditioning process.\n",
    "\n",
    "The thing we're going to do are:\n",
    "1. Count the total of data\n",
    "2. Count the average of the stars rating"
   ]
  },
  {
   "cell_type": "code",
   "execution_count": null,
   "metadata": {},
   "outputs": [],
   "source": [
    "# =============================================================================\n",
    "# Statistic\n",
    "# =============================================================================\n",
    "\n",
    "#1. Total data\n",
    "print ('The total of data in dataset is',len(dataset))\n",
    "\n",
    "\n",
    "#2. Average of Stars Ratings\n",
    "stars=[i['Stars'] for i in dataset]\n",
    "average=sum(np.array(stars))/len(dataset); print ('The average from the first method is ',average)\n",
    "###Or\n",
    "average_2=np.average(np.array(stars)); print('The average from the second method is', average_2)"
   ]
  },
  {
   "cell_type": "markdown",
   "metadata": {},
   "source": [
    "# PART 3: Visualizing The Ratings Distribution from total reviews\n",
    "\n",
    "So here we will plot the total number of ratings per each rating with line plot and bar plot. This is done to address the distribution of rating data from the total review."
   ]
  },
  {
   "cell_type": "markdown",
   "metadata": {},
   "source": [
    "# PART 4 : Visualizing The Brand Popularity and Brand Top Rated\n",
    "\n",
    "To make a good dataframe in determining the most popular brands and determining the brand with the highest rating, we use Pandas."
   ]
  },
  {
   "cell_type": "markdown",
   "metadata": {},
   "source": [
    "#  This is the End of my Project, enjoy and thank you"
   ]
  },
  {
   "cell_type": "code",
   "execution_count": null,
   "metadata": {},
   "outputs": [],
   "source": []
  }
 ],
 "metadata": {
  "kernelspec": {
   "display_name": "Python 3",
   "language": "python",
   "name": "python3"
  },
  "language_info": {
   "codemirror_mode": {
    "name": "ipython",
    "version": 3
   },
   "file_extension": ".py",
   "mimetype": "text/x-python",
   "name": "python",
   "nbconvert_exporter": "python",
   "pygments_lexer": "ipython3",
   "version": "3.7.4"
  }
 },
 "nbformat": 4,
 "nbformat_minor": 4
}
